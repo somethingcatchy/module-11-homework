{
 "cells": [
  {
   "cell_type": "markdown",
   "metadata": {},
   "source": [
    "# Module 12 Challenge\n",
    "## Deliverable 1: Scrape Titles and Preview Text from Mars News"
   ]
  },
  {
   "cell_type": "code",
   "execution_count": 1,
   "metadata": {},
   "outputs": [],
   "source": [
    "# Import Splinter and BeautifulSoup\n",
    "from splinter import Browser\n",
    "from bs4 import BeautifulSoup as soup"
   ]
  },
  {
   "cell_type": "code",
   "execution_count": 5,
   "metadata": {
    "scrolled": true
   },
   "outputs": [
    {
     "name": "stderr",
     "output_type": "stream",
     "text": [
      "The chromedriver version (124.0.6367.91) detected in PATH at C:\\Windows\\chromedriver.exe might not be compatible with the detected chrome version (125.0.6422.141); currently, chromedriver 125.0.6422.141 is recommended for chrome 125.*, so it is advised to delete the driver in PATH and retry\n"
     ]
    }
   ],
   "source": [
    "browser = Browser('chrome')"
   ]
  },
  {
   "cell_type": "markdown",
   "metadata": {},
   "source": [
    "### Step 1: Visit the Website\n",
    "\n",
    "1. Use automated browsing to visit the [Mars news site](https://static.bc-edx.com/data/web/mars_news/index.html). Inspect the page to identify which elements to scrape.\n",
    "\n",
    "      > **Hint** To identify which elements to scrape, you might want to inspect the page by using Chrome DevTools."
   ]
  },
  {
   "cell_type": "code",
   "execution_count": 6,
   "metadata": {},
   "outputs": [],
   "source": [
    "# Visit the Mars news site\n",
    "url = 'https://static.bc-edx.com/data/web/mars_news/index.html'\n",
    "browser.visit(url)"
   ]
  },
  {
   "cell_type": "markdown",
   "metadata": {},
   "source": [
    "### Step 2: Scrape the Website\n",
    "\n",
    "Create a Beautiful Soup object and use it to extract text elements from the website."
   ]
  },
  {
   "cell_type": "code",
   "execution_count": 15,
   "metadata": {},
   "outputs": [],
   "source": [
    "# Create a Beautiful Soup object\n",
    "html = browser.html\n",
    "\n",
    "Soup = soup(html, 'html.parser')"
   ]
  },
  {
   "cell_type": "code",
   "execution_count": 16,
   "metadata": {},
   "outputs": [
    {
     "name": "stderr",
     "output_type": "stream",
     "text": [
      "C:\\Users\\Alex\\AppData\\Local\\Temp\\ipykernel_29384\\2942286337.py:2: DeprecationWarning: The 'text' argument to find()-type methods is deprecated. Use 'string' instead.\n",
      "  text_elements = Soup.find_all(text=True)\n"
     ]
    }
   ],
   "source": [
    "# Extract all the text elements\n",
    "text_elements = Soup.find_all(text=True)"
   ]
  },
  {
   "cell_type": "markdown",
   "metadata": {},
   "source": [
    "### Step 3: Store the Results\n",
    "\n",
    "Extract the titles and preview text of the news articles that you scraped. Store the scraping results in Python data structures as follows:\n",
    "\n",
    "* Store each title-and-preview pair in a Python dictionary. And, give each dictionary two keys: `title` and `preview`. An example is the following:\n",
    "\n",
    "  ```python\n",
    "  {'title': \"NASA's MAVEN Observes Martian Light Show Caused by Major Solar Storm\", \n",
    "   'preview': \"For the first time in its eight years orbiting Mars, NASA’s MAVEN mission witnessed two different types of ultraviolet aurorae simultaneously, the result of solar storms that began on Aug. 27.\"\n",
    "  }\n",
    "  ```\n",
    "\n",
    "* Store all the dictionaries in a Python list.\n",
    "\n",
    "* Print the list in your notebook."
   ]
  },
  {
   "cell_type": "code",
   "execution_count": 11,
   "metadata": {},
   "outputs": [],
   "source": [
    "# Create an empty list to store the dictionaries\n",
    "news_list=[]"
   ]
  },
  {
   "cell_type": "code",
   "execution_count": 17,
   "metadata": {},
   "outputs": [],
   "source": [
    "# Loop through the text elements\n",
    "# Extract the title and preview text from the elements\n",
    "# Store each title and preview pair in a dictionary\n",
    "# Add the dictionary to the list\n",
    "for text_element in text_elements:\n",
    "    # Find the nearest title and preview text elements to the current text element\n",
    "    title_element = text_element.find_previous('h2')\n",
    "    preview_element = text_element.find_previous('p')\n",
    "    \n",
    "    # Check if both title and preview text elements exist\n",
    "    if title_element and preview_element:\n",
    "        # Extract title and preview text\n",
    "        title = title_element.text.strip()\n",
    "        preview = preview_element.text.strip()\n",
    "        \n",
    "        # Create a dictionary for the current article\n",
    "        article_dict = {\n",
    "            'title': title,\n",
    "            'preview': preview\n",
    "        }\n",
    "        \n",
    "        # Append the dictionary to the news list\n",
    "        news_list.append(article_dict)"
   ]
  },
  {
   "cell_type": "code",
   "execution_count": 18,
   "metadata": {},
   "outputs": [
    {
     "name": "stdout",
     "output_type": "stream",
     "text": [
      "{'title': 'You Might Also Like', 'preview': 'NASA Marks 25 Years Since Pathfinder Touched Down on Mars'}\n",
      "{'title': 'You Might Also Like', 'preview': 'NASA Marks 25 Years Since Pathfinder Touched Down on Mars'}\n",
      "{'title': 'You Might Also Like', 'preview': 'NASA Marks 25 Years Since Pathfinder Touched Down on Mars'}\n",
      "{'title': 'You Might Also Like', 'preview': 'NASA Marks 25 Years Since Pathfinder Touched Down on Mars'}\n",
      "{'title': 'You Might Also Like', 'preview': 'NASA Marks 25 Years Since Pathfinder Touched Down on Mars'}\n",
      "{'title': 'You Might Also Like', 'preview': 'NASA Marks 25 Years Since Pathfinder Touched Down on Mars'}\n",
      "{'title': 'You Might Also Like', 'preview': 'NASA Marks 25 Years Since Pathfinder Touched Down on Mars'}\n",
      "{'title': 'You Might Also Like', 'preview': 'NASA Marks 25 Years Since Pathfinder Touched Down on Mars'}\n",
      "{'title': 'You Might Also Like', 'preview': 'NASA Marks 25 Years Since Pathfinder Touched Down on Mars'}\n",
      "{'title': 'You Might Also Like', 'preview': \"NASA's Perseverance Rover Captures Video of Solar Eclipse on Mars\"}\n",
      "{'title': 'You Might Also Like', 'preview': \"NASA's Perseverance Rover Captures Video of Solar Eclipse on Mars\"}\n",
      "{'title': 'You Might Also Like', 'preview': \"NASA's Perseverance Rover Captures Video of Solar Eclipse on Mars\"}\n",
      "{'title': 'You Might Also Like', 'preview': \"NASA's Perseverance Rover Captures Video of Solar Eclipse on Mars\"}\n",
      "{'title': 'You Might Also Like', 'preview': \"NASA's Perseverance Rover Captures Video of Solar Eclipse on Mars\"}\n",
      "{'title': 'You Might Also Like', 'preview': \"NASA's Perseverance Rover Captures Video of Solar Eclipse on Mars\"}\n",
      "{'title': 'You Might Also Like', 'preview': \"NASA's Perseverance Rover Captures Video of Solar Eclipse on Mars\"}\n",
      "{'title': 'You Might Also Like', 'preview': \"NASA's Perseverance Rover Captures Video of Solar Eclipse on Mars\"}\n",
      "{'title': 'You Might Also Like', 'preview': \"NASA's Perseverance Rover Captures Video of Solar Eclipse on Mars\"}\n",
      "{'title': 'You Might Also Like', 'preview': 'NASA, UAE Mars Missions Agree to Share Science Data'}\n",
      "{'title': 'You Might Also Like', 'preview': 'NASA, UAE Mars Missions Agree to Share Science Data'}\n",
      "{'title': 'You Might Also Like', 'preview': 'NASA, UAE Mars Missions Agree to Share Science Data'}\n",
      "{'title': 'You Might Also Like', 'preview': 'NASA, UAE Mars Missions Agree to Share Science Data'}\n",
      "{'title': 'You Might Also Like', 'preview': 'NASA, UAE Mars Missions Agree to Share Science Data'}\n",
      "{'title': 'You Might Also Like', 'preview': 'NASA, UAE Mars Missions Agree to Share Science Data'}\n",
      "{'title': 'You Might Also Like', 'preview': 'NASA, UAE Mars Missions Agree to Share Science Data'}\n",
      "{'title': 'You Might Also Like', 'preview': 'NASA, UAE Mars Missions Agree to Share Science Data'}\n",
      "{'title': 'You Might Also Like', 'preview': 'NASA, UAE Mars Missions Agree to Share Science Data'}\n",
      "{'title': 'You Might Also Like', 'preview': 'NASA, UAE Mars Missions Agree to Share Science Data'}\n",
      "{'title': 'You Might Also Like', 'preview': 'NASA, UAE Mars Missions Agree to Share Science Data'}\n",
      "{'title': 'You Might Also Like', 'preview': 'NASA, UAE Mars Missions Agree to Share Science Data'}\n",
      "{'title': 'You Might Also Like', 'preview': 'NASA, UAE Mars Missions Agree to Share Science Data'}\n",
      "{'title': 'You Might Also Like', 'preview': 'NASA, UAE Mars Missions Agree to Share Science Data'}\n",
      "{'title': 'You Might Also Like', 'preview': 'NASA, UAE Mars Missions Agree to Share Science Data'}\n",
      "{'title': 'You Might Also Like', 'preview': 'NASA, UAE Mars Missions Agree to Share Science Data'}\n",
      "{'title': 'You Might Also Like', 'preview': 'NASA, UAE Mars Missions Agree to Share Science Data'}\n",
      "{'title': 'You Might Also Like', 'preview': 'NASA, UAE Mars Missions Agree to Share Science Data'}\n",
      "{'title': 'You Might Also Like', 'preview': 'NASA, UAE Mars Missions Agree to Share Science Data'}\n",
      "{'title': 'You Might Also Like', 'preview': 'NASA, UAE Mars Missions Agree to Share Science Data'}\n",
      "{'title': 'You Might Also Like', 'preview': 'NASA, UAE Mars Missions Agree to Share Science Data'}\n",
      "{'title': 'You Might Also Like', 'preview': 'NASA, UAE Mars Missions Agree to Share Science Data'}\n",
      "{'title': 'You Might Also Like', 'preview': 'NASA, UAE Mars Missions Agree to Share Science Data'}\n",
      "{'title': 'You Might Also Like', 'preview': 'NASA, UAE Mars Missions Agree to Share Science Data'}\n",
      "{'title': 'You Might Also Like', 'preview': 'NASA, UAE Mars Missions Agree to Share Science Data'}\n",
      "{'title': 'You Might Also Like', 'preview': 'NASA, UAE Mars Missions Agree to Share Science Data'}\n",
      "{'title': 'You Might Also Like', 'preview': 'NASA, UAE Mars Missions Agree to Share Science Data'}\n",
      "{'title': 'You Might Also Like', 'preview': 'NASA, UAE Mars Missions Agree to Share Science Data'}\n",
      "{'title': 'You Might Also Like', 'preview': 'NASA, UAE Mars Missions Agree to Share Science Data'}\n",
      "{'title': 'You Might Also Like', 'preview': 'NASA, UAE Mars Missions Agree to Share Science Data'}\n",
      "{'title': 'You Might Also Like', 'preview': 'NASA, UAE Mars Missions Agree to Share Science Data'}\n",
      "{'title': 'You Might Also Like', 'preview': 'NASA, UAE Mars Missions Agree to Share Science Data'}\n",
      "{'title': 'You Might Also Like', 'preview': 'NASA, UAE Mars Missions Agree to Share Science Data'}\n",
      "{'title': 'You Might Also Like', 'preview': 'NASA, UAE Mars Missions Agree to Share Science Data'}\n",
      "{'title': 'You Might Also Like', 'preview': 'NASA, UAE Mars Missions Agree to Share Science Data'}\n",
      "{'title': 'You Might Also Like', 'preview': 'NASA, UAE Mars Missions Agree to Share Science Data'}\n",
      "{'title': 'You Might Also Like', 'preview': 'NASA, UAE Mars Missions Agree to Share Science Data'}\n",
      "{'title': 'You Might Also Like', 'preview': 'NASA, UAE Mars Missions Agree to Share Science Data'}\n",
      "{'title': 'You Might Also Like', 'preview': 'NASA, UAE Mars Missions Agree to Share Science Data'}\n",
      "{'title': 'You Might Also Like', 'preview': 'NASA, UAE Mars Missions Agree to Share Science Data'}\n",
      "{'title': 'You Might Also Like', 'preview': 'NASA, UAE Mars Missions Agree to Share Science Data'}\n",
      "{'title': 'You Might Also Like', 'preview': 'NASA, UAE Mars Missions Agree to Share Science Data'}\n",
      "{'title': 'You Might Also Like', 'preview': 'NASA, UAE Mars Missions Agree to Share Science Data'}\n",
      "{'title': 'You Might Also Like', 'preview': 'NASA, UAE Mars Missions Agree to Share Science Data'}\n",
      "{'title': 'You Might Also Like', 'preview': 'NASA, UAE Mars Missions Agree to Share Science Data'}\n",
      "{'title': 'You Might Also Like', 'preview': 'NASA, UAE Mars Missions Agree to Share Science Data'}\n",
      "{'title': 'You Might Also Like', 'preview': 'NASA, UAE Mars Missions Agree to Share Science Data'}\n",
      "{'title': 'You Might Also Like', 'preview': 'NASA, UAE Mars Missions Agree to Share Science Data'}\n",
      "{'title': 'You Might Also Like', 'preview': 'NASA, UAE Mars Missions Agree to Share Science Data'}\n",
      "{'title': 'You Might Also Like', 'preview': 'NASA, UAE Mars Missions Agree to Share Science Data'}\n",
      "{'title': 'You Might Also Like', 'preview': 'NASA, UAE Mars Missions Agree to Share Science Data'}\n",
      "{'title': 'You Might Also Like', 'preview': 'NASA, UAE Mars Missions Agree to Share Science Data'}\n",
      "{'title': 'You Might Also Like', 'preview': 'NASA, UAE Mars Missions Agree to Share Science Data'}\n",
      "{'title': 'You Might Also Like', 'preview': 'NASA, UAE Mars Missions Agree to Share Science Data'}\n",
      "{'title': 'You Might Also Like', 'preview': 'NASA, UAE Mars Missions Agree to Share Science Data'}\n",
      "{'title': 'You Might Also Like', 'preview': 'NASA, UAE Mars Missions Agree to Share Science Data'}\n",
      "{'title': 'You Might Also Like', 'preview': 'NASA, UAE Mars Missions Agree to Share Science Data'}\n",
      "{'title': 'You Might Also Like', 'preview': 'NASA, UAE Mars Missions Agree to Share Science Data'}\n",
      "{'title': 'You Might Also Like', 'preview': 'NASA, UAE Mars Missions Agree to Share Science Data'}\n",
      "{'title': 'You Might Also Like', 'preview': 'NASA, UAE Mars Missions Agree to Share Science Data'}\n",
      "{'title': 'You Might Also Like', 'preview': 'NASA, UAE Mars Missions Agree to Share Science Data'}\n",
      "{'title': 'You Might Also Like', 'preview': 'NASA, UAE Mars Missions Agree to Share Science Data'}\n",
      "{'title': 'You Might Also Like', 'preview': 'NASA, UAE Mars Missions Agree to Share Science Data'}\n",
      "{'title': 'You Might Also Like', 'preview': 'NASA, UAE Mars Missions Agree to Share Science Data'}\n",
      "{'title': 'You Might Also Like', 'preview': 'NASA, UAE Mars Missions Agree to Share Science Data'}\n",
      "{'title': 'You Might Also Like', 'preview': 'NASA, UAE Mars Missions Agree to Share Science Data'}\n",
      "{'title': 'You Might Also Like', 'preview': 'NASA, UAE Mars Missions Agree to Share Science Data'}\n",
      "{'title': 'You Might Also Like', 'preview': 'NASA, UAE Mars Missions Agree to Share Science Data'}\n",
      "{'title': 'You Might Also Like', 'preview': 'NASA, UAE Mars Missions Agree to Share Science Data'}\n",
      "{'title': 'You Might Also Like', 'preview': 'NASA, UAE Mars Missions Agree to Share Science Data'}\n",
      "{'title': 'You Might Also Like', 'preview': \"Images and news content extracted from NASA's Mars News website on November 9, 2022.\\n         Images used in accordance with the JPL Image Use Policy.\"}\n",
      "{'title': 'You Might Also Like', 'preview': \"Images and news content extracted from NASA's Mars News website on November 9, 2022.\\n         Images used in accordance with the JPL Image Use Policy.\"}\n",
      "{'title': 'You Might Also Like', 'preview': \"Images and news content extracted from NASA's Mars News website on November 9, 2022.\\n         Images used in accordance with the JPL Image Use Policy.\"}\n",
      "{'title': 'You Might Also Like', 'preview': \"Images and news content extracted from NASA's Mars News website on November 9, 2022.\\n         Images used in accordance with the JPL Image Use Policy.\"}\n",
      "{'title': 'You Might Also Like', 'preview': \"Images and news content extracted from NASA's Mars News website on November 9, 2022.\\n         Images used in accordance with the JPL Image Use Policy.\"}\n",
      "{'title': 'You Might Also Like', 'preview': \"Images and news content extracted from NASA's Mars News website on November 9, 2022.\\n         Images used in accordance with the JPL Image Use Policy.\"}\n",
      "{'title': 'You Might Also Like', 'preview': \"Images and news content extracted from NASA's Mars News website on November 9, 2022.\\n         Images used in accordance with the JPL Image Use Policy.\"}\n",
      "{'title': 'You Might Also Like', 'preview': \"Images and news content extracted from NASA's Mars News website on November 9, 2022.\\n         Images used in accordance with the JPL Image Use Policy.\"}\n",
      "{'title': 'You Might Also Like', 'preview': 'This site is operated by edX Boot Camps LLC for educational purposes only.  \\n            This is not a website endorsed by NASA. This website is intended only for internal academic purposes.'}\n",
      "{'title': 'You Might Also Like', 'preview': 'This site is operated by edX Boot Camps LLC for educational purposes only.  \\n            This is not a website endorsed by NASA. This website is intended only for internal academic purposes.'}\n",
      "{'title': 'You Might Also Like', 'preview': 'This site is operated by edX Boot Camps LLC for educational purposes only.  \\n            This is not a website endorsed by NASA. This website is intended only for internal academic purposes.'}\n",
      "{'title': 'You Might Also Like', 'preview': 'This site is operated by edX Boot Camps LLC for educational purposes only.  \\n            This is not a website endorsed by NASA. This website is intended only for internal academic purposes.'}\n",
      "{'title': 'You Might Also Like', 'preview': 'This site is operated by edX Boot Camps LLC for educational purposes only.  \\n            This is not a website endorsed by NASA. This website is intended only for internal academic purposes.'}\n"
     ]
    }
   ],
   "source": [
    "# Print the list to confirm success\n",
    "for article_dict in news_list:\n",
    "    print(article_dict)"
   ]
  },
  {
   "cell_type": "code",
   "execution_count": 19,
   "metadata": {},
   "outputs": [],
   "source": [
    "browser.quit()"
   ]
  },
  {
   "cell_type": "code",
   "execution_count": null,
   "metadata": {},
   "outputs": [],
   "source": []
  }
 ],
 "metadata": {
  "kernelspec": {
   "display_name": "Python 3 (ipykernel)",
   "language": "python",
   "name": "python3"
  },
  "language_info": {
   "codemirror_mode": {
    "name": "ipython",
    "version": 3
   },
   "file_extension": ".py",
   "mimetype": "text/x-python",
   "name": "python",
   "nbconvert_exporter": "python",
   "pygments_lexer": "ipython3",
   "version": "3.10.13"
  },
  "vscode": {
   "interpreter": {
    "hash": "31f2aee4e71d21fbe5cf8b01ff0e069b9275f58929596ceb00d14d90e3e16cd6"
   }
  }
 },
 "nbformat": 4,
 "nbformat_minor": 4
}
